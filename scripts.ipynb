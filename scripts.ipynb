{
 "cells": [
  {
   "cell_type": "code",
   "execution_count": 1,
   "id": "4acab756",
   "metadata": {},
   "outputs": [],
   "source": [
    "#imports here\n",
    "from selenium import webdriver\n",
    "from selenium.webdriver.common.keys import Keys\n",
    "from selenium.webdriver.support import expected_conditions as EC\n",
    "from selenium.webdriver.common.by import By\n",
    "from selenium.webdriver.support.wait import WebDriverWait\n",
    "import time\n",
    "import getpass\n",
    "import pandas as pd\n",
    "from tqdm import tqdm\n",
    "from selenium.webdriver.chrome.options import Options"
   ]
  },
  {
   "cell_type": "code",
   "execution_count": 2,
   "id": "ebfbc76c",
   "metadata": {},
   "outputs": [],
   "source": [
    "my_bond=['0052973', '0202218', '0770471', '0381501', '0381504', '0381505', '0381506', '0381507', '0381508', '0381509', '0381510', '0381511', '0381512', '0381513', '0381014', '0381515', '0381516', '0381517', '0381518', '0381519', '0381520', '0381521', '0381522', '0381523', '0381524', '0381525', '0381526', '0381527', '0381528', '0381529', '0381530', '0381531', '0381532', '0381533', '0381534', '0381535', '0381536', '0381537', '0381538', '0381539', '0381540', '0381541', '0381542', '0381543', '0381544', '0757001', '0801614', '0801615', '0801616', '0801619', '0801620', '0978894', '0978895']\n",
    "final_result=[]"
   ]
  },
  {
   "cell_type": "code",
   "execution_count": 3,
   "id": "f46f3ea3",
   "metadata": {
    "scrolled": true
   },
   "outputs": [],
   "source": [
    "driver = webdriver.Chrome()\n",
    "\n",
    "#open the webpage\n",
    "driver.get(\"https://www.bb.org.bd/investfacility/prizebond/pbsearch.php\")\n",
    "\n",
    "driver.maximize_window()\n",
    "\n"
   ]
  },
  {
   "cell_type": "code",
   "execution_count": 4,
   "id": "049ad59c",
   "metadata": {},
   "outputs": [],
   "source": [
    "input_data= WebDriverWait(driver, 10).until(EC.element_to_be_clickable((By.XPATH, \"//input[@class='searcharea_input']\")))"
   ]
  },
  {
   "cell_type": "code",
   "execution_count": 5,
   "id": "4dc93e5f",
   "metadata": {},
   "outputs": [],
   "source": [
    "input_data.send_keys('0052974')"
   ]
  },
  {
   "cell_type": "code",
   "execution_count": 6,
   "id": "d4cc300a",
   "metadata": {},
   "outputs": [],
   "source": [
    "button=WebDriverWait(driver, 10).until(EC.element_to_be_clickable((By.XPATH, \"//button[@class='searcharea_button']\")))\n",
    "button.click()"
   ]
  },
  {
   "cell_type": "code",
   "execution_count": 8,
   "id": "4c1a817b",
   "metadata": {},
   "outputs": [
    {
     "ename": "TypeError",
     "evalue": "object of type 'WebElement' has no len()",
     "output_type": "error",
     "traceback": [
      "\u001b[0;31m---------------------------------------------------------------------------\u001b[0m",
      "\u001b[0;31mTypeError\u001b[0m                                 Traceback (most recent call last)",
      "\u001b[0;32m/tmp/ipykernel_15913/491281821.py\u001b[0m in \u001b[0;36m<module>\u001b[0;34m\u001b[0m\n\u001b[0;32m----> 1\u001b[0;31m \u001b[0;32mfor\u001b[0m \u001b[0mi\u001b[0m \u001b[0;32min\u001b[0m \u001b[0mrange\u001b[0m\u001b[0;34m(\u001b[0m\u001b[0mlen\u001b[0m\u001b[0;34m(\u001b[0m\u001b[0minput_data\u001b[0m\u001b[0;34m)\u001b[0m\u001b[0;34m)\u001b[0m\u001b[0;34m:\u001b[0m\u001b[0;34m\u001b[0m\u001b[0;34m\u001b[0m\u001b[0m\n\u001b[0m\u001b[1;32m      2\u001b[0m     \u001b[0minput_data\u001b[0m\u001b[0;34m.\u001b[0m\u001b[0msend_keys\u001b[0m\u001b[0;34m(\u001b[0m\u001b[0mKeys\u001b[0m\u001b[0;34m.\u001b[0m\u001b[0mBACKSPACE\u001b[0m\u001b[0;34m)\u001b[0m\u001b[0;34m\u001b[0m\u001b[0;34m\u001b[0m\u001b[0m\n",
      "\u001b[0;31mTypeError\u001b[0m: object of type 'WebElement' has no len()"
     ]
    }
   ],
   "source": [
    "for i in range(len(input_data)):\n",
    "    input_data.send_keys(Keys.BACKSPACE)"
   ]
  },
  {
   "cell_type": "code",
   "execution_count": null,
   "id": "87f8dc7d",
   "metadata": {},
   "outputs": [],
   "source": [
    "result = driver.find_element(By.CSS_SELECTOR,\"font\").text"
   ]
  },
  {
   "cell_type": "code",
   "execution_count": null,
   "id": "f3fb63af",
   "metadata": {},
   "outputs": [],
   "source": [
    "result"
   ]
  },
  {
   "cell_type": "code",
   "execution_count": null,
   "id": "d03f27d4",
   "metadata": {},
   "outputs": [],
   "source": []
  },
  {
   "cell_type": "code",
   "execution_count": null,
   "id": "0e3a921c",
   "metadata": {
    "scrolled": true
   },
   "outputs": [],
   "source": [
    "# for i in tqdm(my_bond):\n",
    "#     input_data= WebDriverWait(driver, 10).until(EC.element_to_be_clickable((By.XPATH, \"//input[@id='gsearch']\")))\n",
    "#     input_data.send_keys(i)\n",
    "#     button=WebDriverWait(driver, 10).until(EC.element_to_be_clickable((By.XPATH, \"//button[@class='searcharea_button']\")))\n",
    "#     button.click()\n",
    "#     result = driver.find_element(By.CSS_SELECTOR,\"font\").text\n",
    "#     time.sleep(1.05)\n",
    "# #     find child of a tag\n",
    "#     result = driver.find_element(By.CSS_SELECTOR,\"font\").text\n",
    "#     if 'congratulations' in result:\n",
    "#         final_result.append([i,'found'])\n",
    "#     else:\n",
    "#         final_result.append([i,'not found'])\n",
    "    \n",
    "#     time.sleep(5)\n",
    "#     input_data.clear()\n",
    "        \n",
    "        \n"
   ]
  },
  {
   "cell_type": "code",
   "execution_count": null,
   "id": "24007941",
   "metadata": {},
   "outputs": [],
   "source": [
    "# final_result"
   ]
  },
  {
   "cell_type": "code",
   "execution_count": null,
   "id": "0d144e67",
   "metadata": {},
   "outputs": [],
   "source": [
    "# for i in tqdm(my_bond):\n",
    "#     input_data= WebDriverWait(driver, 10).until(EC.element_to_be_clickable((By.XPATH, \"//input[@id='txtNumbers']\")))\n",
    "#     input_data.send_keys(i)\n",
    "#     button=WebDriverWait(driver, 10).until(EC.element_to_be_clickable((By.XPATH, \"//img[@src='../../images/go_red.jpg']\"))).click()\n",
    "#     time.sleep(1.05)\n",
    "# #     find child of a tag\n",
    "#     result=driver.find_element_by_xpath(\"//div[@id='pbondDlts']/*\").text\n",
    "#     if result == 'Congratulation! 1 match found.' :\n",
    "#         final_result.append([i,'found'])\n",
    "#     else:\n",
    "#         final_result.append([i,'not found'])\n",
    "#     input_data.clear()\n",
    "        \n",
    "        \n",
    "    \n",
    "    \n",
    "    "
   ]
  },
  {
   "cell_type": "code",
   "execution_count": null,
   "id": "2cf9e5ca",
   "metadata": {},
   "outputs": [],
   "source": [
    "# data_result=pd.DataFrame(final_result)\n",
    "# data_result"
   ]
  },
  {
   "cell_type": "code",
   "execution_count": null,
   "id": "34b03f78",
   "metadata": {},
   "outputs": [],
   "source": [
    "# df=pd.read_csv('result.csv')"
   ]
  }
 ],
 "metadata": {
  "kernelspec": {
   "display_name": "Python 3 (ipykernel)",
   "language": "python",
   "name": "python3"
  },
  "language_info": {
   "codemirror_mode": {
    "name": "ipython",
    "version": 3
   },
   "file_extension": ".py",
   "mimetype": "text/x-python",
   "name": "python",
   "nbconvert_exporter": "python",
   "pygments_lexer": "ipython3",
   "version": "3.9.13"
  }
 },
 "nbformat": 4,
 "nbformat_minor": 5
}
