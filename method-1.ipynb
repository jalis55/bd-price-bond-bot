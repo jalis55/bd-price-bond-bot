{
 "cells": [
  {
   "cell_type": "code",
   "execution_count": 6,
   "id": "492b642c",
   "metadata": {},
   "outputs": [],
   "source": [
    "#imports here\n",
    "from selenium import webdriver\n",
    "from selenium.webdriver.common.keys import Keys\n",
    "from selenium.webdriver.support import expected_conditions as EC\n",
    "from selenium.webdriver.common.by import By\n",
    "from selenium.webdriver.support.wait import WebDriverWait\n",
    "import time\n",
    "import getpass\n",
    "import pandas as pd\n",
    "from tqdm import tqdm\n",
    "from selenium.webdriver.chrome.options import Options"
   ]
  },
  {
   "cell_type": "code",
   "execution_count": 7,
   "id": "ef16835a",
   "metadata": {},
   "outputs": [],
   "source": [
    "my_data='0052973,0202218,0770471,0381501,0381504,0381505,0381506,0381507,0381508,0381509,0381510,0381511,0381512,0381513,0381014,0381515,0381516,0381517,0381518,0381519,0381520,0381521,0381522,0381523,0381524,0381525,0381526,0381527,0381528,0381529,0381530,0381531,0381532,0381533,0381534,0381535,0381536,0381537,0381538,0381539,0381540,0381541,0381542,0381543,0381544,0757001,0801614,0801615,0801616,0801619,0801620,0978894,0978895'\n"
   ]
  },
  {
   "cell_type": "code",
   "execution_count": null,
   "id": "de3cdfea",
   "metadata": {},
   "outputs": [],
   "source": [
    "driver = webdriver.Chrome()\n",
    "\n",
    "#open the webpage\n",
    "driver.get(\"https://www.bb.org.bd/investfacility/prizebond/pbsearch.php\")\n",
    "\n",
    "driver.maximize_window()\n",
    "input_data= WebDriverWait(driver, 10).until(EC.element_to_be_clickable((By.CSS_SELECTOR, \".searcharea_input\")))\n",
    "input_data.send_keys(my_bond2)\n",
    "button=WebDriverWait(driver, 10).until(EC.element_to_be_clickable((By.XPATH, \"//button[@class='searcharea_button']\")))\n",
    "button.click()\n",
    "result = driver.find_element(By.CSS_SELECTOR,\"font\").text\n",
    "print(result)"
   ]
  },
  {
   "cell_type": "code",
   "execution_count": null,
   "id": "d9315a1c",
   "metadata": {},
   "outputs": [],
   "source": []
  }
 ],
 "metadata": {
  "kernelspec": {
   "display_name": "Python 3 (ipykernel)",
   "language": "python",
   "name": "python3"
  },
  "language_info": {
   "codemirror_mode": {
    "name": "ipython",
    "version": 3
   },
   "file_extension": ".py",
   "mimetype": "text/x-python",
   "name": "python",
   "nbconvert_exporter": "python",
   "pygments_lexer": "ipython3",
   "version": "3.9.13"
  }
 },
 "nbformat": 4,
 "nbformat_minor": 5
}
